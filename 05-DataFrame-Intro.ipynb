{
 "cells": [
  {
   "cell_type": "code",
   "execution_count": 2,
   "id": "a508db31-4ae8-4d2e-a196-97760af48673",
   "metadata": {},
   "outputs": [],
   "source": [
    "import findspark\n",
    "findspark.init()"
   ]
  },
  {
   "cell_type": "code",
   "execution_count": 4,
   "id": "3c3a86dc-32ec-4601-aebc-7bada5de03f2",
   "metadata": {},
   "outputs": [],
   "source": [
    "from pyspark.sql import SparkSession\n",
    "from pyspark.sql.functions import desc"
   ]
  },
  {
   "cell_type": "code",
   "execution_count": 6,
   "id": "2efc3001-aa75-45d9-94e6-a6c9febdc8c0",
   "metadata": {},
   "outputs": [],
   "source": [
    "# Create a SparkSession\n",
    "spark = SparkSession.builder \\\n",
    "    .appName(\"DataFrame Demo\") \\\n",
    "    .config(\"spark.executor.memory\", \"2g\") \\\n",
    "    .config(\"spark.sql.shuffle.partitions\", \"4\") \\\n",
    "    .getOrCreate()"
   ]
  },
  {
   "cell_type": "code",
   "execution_count": 7,
   "id": "03662edf-517f-49fc-9209-99fb882ebf66",
   "metadata": {},
   "outputs": [
    {
     "data": {
      "text/html": [
       "\n",
       "            <div>\n",
       "                <p><b>SparkSession - in-memory</b></p>\n",
       "                \n",
       "        <div>\n",
       "            <p><b>SparkContext</b></p>\n",
       "\n",
       "            <p><a href=\"http://MSI:4040\">Spark UI</a></p>\n",
       "\n",
       "            <dl>\n",
       "              <dt>Version</dt>\n",
       "                <dd><code>v3.4.4</code></dd>\n",
       "              <dt>Master</dt>\n",
       "                <dd><code>local[*]</code></dd>\n",
       "              <dt>AppName</dt>\n",
       "                <dd><code>DataFrame Demo</code></dd>\n",
       "            </dl>\n",
       "        </div>\n",
       "        \n",
       "            </div>\n",
       "        "
      ],
      "text/plain": [
       "<pyspark.sql.session.SparkSession at 0x223ed707bd0>"
      ]
     },
     "execution_count": 7,
     "metadata": {},
     "output_type": "execute_result"
    }
   ],
   "source": [
    "spark"
   ]
  },
  {
   "cell_type": "markdown",
   "id": "ea6de8c7-148e-4aab-8a16-69b4e2278414",
   "metadata": {},
   "source": [
    "## **Using RDD's**"
   ]
  },
  {
   "cell_type": "code",
   "execution_count": 11,
   "id": "2234858d-1468-40e2-a2a9-9fdd56abe7ef",
   "metadata": {},
   "outputs": [
    {
     "data": {
      "text/plain": [
       "[('is', 3),\n",
       " ('Spark', 3),\n",
       " ('text', 2),\n",
       " ('for', 2),\n",
       " ('distributed', 2),\n",
       " ('of', 2),\n",
       " ('This', 2),\n",
       " ('a', 2),\n",
       " ('RDD', 2),\n",
       " ('sample', 1)]"
      ]
     },
     "execution_count": 11,
     "metadata": {},
     "output_type": "execute_result"
    }
   ],
   "source": [
    "# Ensure spark is already initialized from the previous cell\n",
    "rdd = spark.sparkContext.textFile(\"./data/data.txt\")\n",
    "\n",
    "result_rdd = rdd.flatMap(lambda line: line.split(\" \")) \\\n",
    "    .map(lambda word: (word, 1)) \\\n",
    "    .reduceByKey(lambda a, b: a + b) \\\n",
    "    .sortBy(lambda x: x[1], ascending=False)\n",
    "\n",
    "# This should now produce output\n",
    "result_rdd.take(10)"
   ]
  },
  {
   "cell_type": "markdown",
   "id": "f897eaa5-8048-4a71-b548-af88730b4928",
   "metadata": {},
   "source": [
    "# **Using DataFrames**"
   ]
  },
  {
   "cell_type": "code",
   "execution_count": 12,
   "id": "dd1b436f-63fa-4cf2-bca4-f2d75a509e53",
   "metadata": {},
   "outputs": [],
   "source": [
    "df = spark.read.text(\"./data/data.txt\")\n",
    "\n",
    "result_df = df.selectExpr(\"explode(split(value, ' ')) as word\") \\\n",
    "    .groupBy(\"word\").count().orderBy(desc(\"count\"))"
   ]
  },
  {
   "cell_type": "code",
   "execution_count": 13,
   "id": "3b92105c-a495-4259-a642-382dfe17fe70",
   "metadata": {},
   "outputs": [
    {
     "data": {
      "text/plain": [
       "[Row(word='is', count=3),\n",
       " Row(word='Spark', count=3),\n",
       " Row(word='for', count=2),\n",
       " Row(word='RDD', count=2),\n",
       " Row(word='text', count=2),\n",
       " Row(word='distributed', count=2),\n",
       " Row(word='a', count=2),\n",
       " Row(word='This', count=2),\n",
       " Row(word='of', count=2),\n",
       " Row(word='file', count=1)]"
      ]
     },
     "execution_count": 13,
     "metadata": {},
     "output_type": "execute_result"
    }
   ],
   "source": [
    "result_df.take(10)"
   ]
  },
  {
   "cell_type": "code",
   "execution_count": 14,
   "id": "1316abe0-fc55-4dae-92f2-e21a4a33bc6e",
   "metadata": {},
   "outputs": [],
   "source": [
    "spark.stop()"
   ]
  },
  {
   "cell_type": "code",
   "execution_count": null,
   "id": "63633004-6186-4444-a76a-f71a7ebe3cde",
   "metadata": {},
   "outputs": [],
   "source": []
  }
 ],
 "metadata": {
  "kernelspec": {
   "display_name": "Python 3.11 (local)",
   "language": "python",
   "name": "python311"
  },
  "language_info": {
   "codemirror_mode": {
    "name": "ipython",
    "version": 3
   },
   "file_extension": ".py",
   "mimetype": "text/x-python",
   "name": "python",
   "nbconvert_exporter": "python",
   "pygments_lexer": "ipython3",
   "version": "3.11.0"
  }
 },
 "nbformat": 4,
 "nbformat_minor": 5
}
