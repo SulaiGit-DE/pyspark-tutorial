{
 "cells": [
  {
   "cell_type": "code",
   "execution_count": 1,
   "id": "85a722d5-0c4c-47bd-804f-9ccb001a2379",
   "metadata": {},
   "outputs": [],
   "source": [
    "import findspark\n",
    "findspark.init()"
   ]
  },
  {
   "cell_type": "code",
   "execution_count": 2,
   "id": "2b136548-a0fd-4940-a990-ae95953b917d",
   "metadata": {},
   "outputs": [],
   "source": [
    "from pyspark.sql import SparkSession\n",
    "\n",
    "#Create a Sparksession\n",
    "spark = SparkSession.builder.appName(\"DataFrame-Operations\").getOrCreate()\n"
   ]
  },
  {
   "cell_type": "code",
   "execution_count": 3,
   "id": "86fcaae2-fa22-47fa-a605-72ee1e5b9a48",
   "metadata": {},
   "outputs": [
    {
     "name": "stdout",
     "output_type": "stream",
     "text": [
      "id,name,category,quantity,price\n",
      "1,iPhone,Electronics,10,899.99\n",
      "2,MacBook,Electronics,5,1299.99\n",
      "3,iPad,Electronics,15,499.99\n",
      "4,Samsung TV,Electronics,8,799.99\n",
      "5,LG TV,Electronics,10,699.99\n",
      "6,Nike Shoes,Clothing,30,99.99\n",
      "7,Adidas Shoes,Clothing,25,89.99\n",
      "8,Sony Headphones,Electronics,12,149.99\n",
      "9,Beats Headphones,Electronics,20,199.99"
     ]
    }
   ],
   "source": [
    "%%bash\n",
    "head -10 data/stocks.txt"
   ]
  },
  {
   "cell_type": "code",
   "execution_count": 4,
   "id": "365cadd0-9b61-4f3e-8d06-14a315413e8f",
   "metadata": {},
   "outputs": [],
   "source": [
    "#Load a Synthetic data into a DataFrame\n",
    "data_file_path = \"./data/stocks.txt\"\n",
    "df = spark.read.csv(data_file_path, header=True, inferSchema=True)"
   ]
  },
  {
   "cell_type": "code",
   "execution_count": 7,
   "id": "0f3a0fb8-308a-4880-a1e5-e24d7c18f48c",
   "metadata": {},
   "outputs": [
    {
     "name": "stdout",
     "output_type": "stream",
     "text": [
      "root\n",
      " |-- id: integer (nullable = true)\n",
      " |-- name: string (nullable = true)\n",
      " |-- category: string (nullable = true)\n",
      " |-- quantity: integer (nullable = true)\n",
      " |-- price: double (nullable = true)\n",
      "\n",
      "+---+----------------+-----------+--------+-------+\n",
      "| id|            name|   category|quantity|  price|\n",
      "+---+----------------+-----------+--------+-------+\n",
      "|  1|          iPhone|Electronics|      10| 899.99|\n",
      "|  2|         MacBook|Electronics|       5|1299.99|\n",
      "|  3|            iPad|Electronics|      15| 499.99|\n",
      "|  4|      Samsung TV|Electronics|       8| 799.99|\n",
      "|  5|           LG TV|Electronics|      10| 699.99|\n",
      "|  6|      Nike Shoes|   Clothing|      30|  99.99|\n",
      "|  7|    Adidas Shoes|   Clothing|      25|  89.99|\n",
      "|  8| Sony Headphones|Electronics|      12| 149.99|\n",
      "|  9|Beats Headphones|Electronics|      20| 199.99|\n",
      "+---+----------------+-----------+--------+-------+\n",
      "\n"
     ]
    }
   ],
   "source": [
    "#Display Schema of DataFrame\n",
    "df.printSchema()\n",
    "\n",
    "#Show the initial DataFrame\n",
    "df.show(10)"
   ]
  },
  {
   "cell_type": "markdown",
   "id": "292196bf-3aba-4d37-b900-ffa63cd3e42a",
   "metadata": {},
   "source": [
    "### Choose Specific Coloumns"
   ]
  },
  {
   "cell_type": "code",
   "execution_count": 8,
   "id": "63fca6ae-e719-41b4-bde7-780f5d3137bf",
   "metadata": {},
   "outputs": [
    {
     "name": "stdout",
     "output_type": "stream",
     "text": [
      "Selected Columns:\n",
      "+---+------------+-------+\n",
      "| id|        name|  price|\n",
      "+---+------------+-------+\n",
      "|  1|      iPhone| 899.99|\n",
      "|  2|     MacBook|1299.99|\n",
      "|  3|        iPad| 499.99|\n",
      "|  4|  Samsung TV| 799.99|\n",
      "|  5|       LG TV| 699.99|\n",
      "|  6|  Nike Shoes|  99.99|\n",
      "|  7|Adidas Shoes|  89.99|\n",
      "+---+------------+-------+\n",
      "only showing top 7 rows\n",
      "\n"
     ]
    }
   ],
   "source": [
    "#Select Specific Columns\n",
    "selected_columns = df.select(\"id\", \"name\", \"price\")\n",
    "print(\"Selected Columns:\")\n",
    "selected_columns.show(7)"
   ]
  },
  {
   "cell_type": "markdown",
   "id": "b2918eab-e78c-43ec-a00b-ac796923cfd1",
   "metadata": {},
   "source": [
    "### Filter: Apply conditions to filter rows."
   ]
  },
  {
   "cell_type": "code",
   "execution_count": 9,
   "id": "d055a580-d3c4-44df-b7c6-3c2aa38380fd",
   "metadata": {},
   "outputs": [
    {
     "name": "stdout",
     "output_type": "stream",
     "text": [
      "Filtered Data:  2\n",
      "+---+------------+--------+--------+-----+\n",
      "| id|        name|category|quantity|price|\n",
      "+---+------------+--------+--------+-----+\n",
      "|  6|  Nike Shoes|Clothing|      30|99.99|\n",
      "|  7|Adidas Shoes|Clothing|      25|89.99|\n",
      "+---+------------+--------+--------+-----+\n",
      "\n"
     ]
    }
   ],
   "source": [
    "# Filter Row Based on a condition\n",
    "filtered_data = df.filter(df.quantity > 20)\n",
    "print(\"Filtered Data: \", filtered_data.count())\n",
    "filtered_data.show()"
   ]
  },
  {
   "cell_type": "markdown",
   "id": "2a60e9a6-2679-4547-b3fe-45ad1451e324",
   "metadata": {},
   "source": [
    "### GroupBy: Group data based on specific columns"
   ]
  },
  {
   "cell_type": "markdown",
   "id": "23a5c240-3822-40cb-b55b-1491e0d3880a",
   "metadata": {},
   "source": [
    "### Aggregations: Perform functions like sum, average, etc., on grouped data."
   ]
  },
  {
   "cell_type": "code",
   "execution_count": 10,
   "id": "addc8bcd-2522-40e6-b0d9-2e9787751c48",
   "metadata": {},
   "outputs": [
    {
     "name": "stdout",
     "output_type": "stream",
     "text": [
      " Group and Aggregated Data :\n",
      "+-----------+-------------+-----------------+\n",
      "|   category|sum(quantity)|       avg(price)|\n",
      "+-----------+-------------+-----------------+\n",
      "|Electronics|           80|649.9899999999999|\n",
      "|   Clothing|           55|            94.99|\n",
      "+-----------+-------------+-----------------+\n",
      "\n"
     ]
    }
   ],
   "source": [
    "# GroupBy and Aggregations\n",
    "grouped_data = df.groupBy(\"category\").agg({\"quantity\": \"sum\", \"price\": \"avg\"})\n",
    "print(\" Group and Aggregated Data :\")\n",
    "grouped_data.show()"
   ]
  },
  {
   "cell_type": "markdown",
   "id": "c97e6b39-f30b-4169-b4da-ae933289637c",
   "metadata": {},
   "source": [
    "### Join: Combine multiple DataFrames based on specified columns."
   ]
  },
  {
   "cell_type": "code",
   "execution_count": 11,
   "id": "ca839041-e5b3-470d-ae38-c0338af3d293",
   "metadata": {},
   "outputs": [
    {
     "name": "stdout",
     "output_type": "stream",
     "text": [
      "Joined Data :\n",
      "+---+----------------+-----------+--------+-------+-----------+\n",
      "| id|            name|   category|quantity|  price|   category|\n",
      "+---+----------------+-----------+--------+-------+-----------+\n",
      "|  1|          iPhone|Electronics|      10| 899.99|Electronics|\n",
      "|  2|         MacBook|Electronics|       5|1299.99|Electronics|\n",
      "|  3|            iPad|Electronics|      15| 499.99|Electronics|\n",
      "|  4|      Samsung TV|Electronics|       8| 799.99|Electronics|\n",
      "|  5|           LG TV|Electronics|      10| 699.99|Electronics|\n",
      "|  6|      Nike Shoes|   Clothing|      30|  99.99|   Clothing|\n",
      "|  7|    Adidas Shoes|   Clothing|      25|  89.99|   Clothing|\n",
      "|  8| Sony Headphones|Electronics|      12| 149.99|Electronics|\n",
      "|  9|Beats Headphones|Electronics|      20| 199.99|Electronics|\n",
      "+---+----------------+-----------+--------+-------+-----------+\n",
      "\n"
     ]
    }
   ],
   "source": [
    "# Join with Another DataFrame\n",
    "df2 = df.select(\"id\", \"category\").limit(10)\n",
    "joined_data = df.join(df2, \"id\", \"inner\")\n",
    "print(\"Joined Data :\")\n",
    "joined_data.show()"
   ]
  },
  {
   "cell_type": "markdown",
   "id": "8c31bea6-3cda-4960-884d-f402e4a7f0ba",
   "metadata": {},
   "source": [
    "### Sort: Arrange rows based on one or more columns."
   ]
  },
  {
   "cell_type": "code",
   "execution_count": 12,
   "id": "41e33ec3-a6b2-4ce9-a543-78ad89287b55",
   "metadata": {},
   "outputs": [
    {
     "name": "stdout",
     "output_type": "stream",
     "text": [
      "Sorted Data: \n",
      "+---+----------------+-----------+--------+-------+\n",
      "| id|            name|   category|quantity|  price|\n",
      "+---+----------------+-----------+--------+-------+\n",
      "|  7|    Adidas Shoes|   Clothing|      25|  89.99|\n",
      "|  6|      Nike Shoes|   Clothing|      30|  99.99|\n",
      "|  8| Sony Headphones|Electronics|      12| 149.99|\n",
      "|  9|Beats Headphones|Electronics|      20| 199.99|\n",
      "|  3|            iPad|Electronics|      15| 499.99|\n",
      "|  5|           LG TV|Electronics|      10| 699.99|\n",
      "|  4|      Samsung TV|Electronics|       8| 799.99|\n",
      "|  1|          iPhone|Electronics|      10| 899.99|\n",
      "|  2|         MacBook|Electronics|       5|1299.99|\n",
      "+---+----------------+-----------+--------+-------+\n",
      "\n"
     ]
    }
   ],
   "source": [
    "#Sort by a column \n",
    "sorted_data = df.orderBy(\"price\")\n",
    "print(\"Sorted Data: \")\n",
    "sorted_data.show()"
   ]
  },
  {
   "cell_type": "code",
   "execution_count": 13,
   "id": "c9c16f8c-596f-4e95-b047-6421dadf9d24",
   "metadata": {},
   "outputs": [
    {
     "name": "stdout",
     "output_type": "stream",
     "text": [
      "Sorted Data Descending: \n",
      "+---+----------------+-----------+--------+-------+\n",
      "| id|            name|   category|quantity|  price|\n",
      "+---+----------------+-----------+--------+-------+\n",
      "|  2|         MacBook|Electronics|       5|1299.99|\n",
      "|  1|          iPhone|Electronics|      10| 899.99|\n",
      "|  4|      Samsung TV|Electronics|       8| 799.99|\n",
      "|  5|           LG TV|Electronics|      10| 699.99|\n",
      "|  3|            iPad|Electronics|      15| 499.99|\n",
      "|  9|Beats Headphones|Electronics|      20| 199.99|\n",
      "|  8| Sony Headphones|Electronics|      12| 149.99|\n",
      "|  6|      Nike Shoes|   Clothing|      30|  99.99|\n",
      "|  7|    Adidas Shoes|   Clothing|      25|  89.99|\n",
      "+---+----------------+-----------+--------+-------+\n",
      "\n"
     ]
    }
   ],
   "source": [
    "#Sort by a column desc\n",
    "from pyspark.sql.functions import col, desc\n",
    "sorted_data = df.orderBy(col(\"price\").desc(), col(\"id\").desc())\n",
    "print(\"Sorted Data Descending: \")\n",
    "sorted_data.show()"
   ]
  },
  {
   "cell_type": "markdown",
   "id": "dd5b1480-2b21-4e51-8407-d0febcd92477",
   "metadata": {},
   "source": [
    "### Distinct: Get unique rows."
   ]
  },
  {
   "cell_type": "code",
   "execution_count": 14,
   "id": "16d412ef-da2b-402c-a1ea-79a64dd86d2d",
   "metadata": {},
   "outputs": [
    {
     "name": "stdout",
     "output_type": "stream",
     "text": [
      "Distinct Product Categories:\n",
      "+-----------+\n",
      "|   category|\n",
      "+-----------+\n",
      "|Electronics|\n",
      "|   Clothing|\n",
      "+-----------+\n",
      "\n"
     ]
    }
   ],
   "source": [
    "# Get Distinct product category\n",
    "distinct_rows = df.select(\"category\").distinct()\n",
    "print(\"Distinct Product Categories:\")\n",
    "distinct_rows.show()"
   ]
  },
  {
   "cell_type": "markdown",
   "id": "bf2d255a-b078-47e9-97ad-18b4d56466af",
   "metadata": {},
   "source": [
    "### Drop: Remove specified columns."
   ]
  },
  {
   "cell_type": "code",
   "execution_count": 15,
   "id": "7f733653-9202-429b-be20-96f1813ed5f8",
   "metadata": {},
   "outputs": [
    {
     "name": "stdout",
     "output_type": "stream",
     "text": [
      "Dropped Columns :\n",
      "+---+------------+-------+\n",
      "| id|        name|  price|\n",
      "+---+------------+-------+\n",
      "|  1|      iPhone| 899.99|\n",
      "|  2|     MacBook|1299.99|\n",
      "|  3|        iPad| 499.99|\n",
      "|  4|  Samsung TV| 799.99|\n",
      "|  5|       LG TV| 699.99|\n",
      "|  6|  Nike Shoes|  99.99|\n",
      "|  7|Adidas Shoes|  89.99|\n",
      "+---+------------+-------+\n",
      "only showing top 7 rows\n",
      "\n"
     ]
    }
   ],
   "source": [
    "# Drop Columns\n",
    "dropped_columns = df.drop(\"quantity\", \"category\")\n",
    "print(\"Dropped Columns :\")\n",
    "dropped_columns.show(7)"
   ]
  },
  {
   "cell_type": "markdown",
   "id": "cd210895-c600-4be9-8634-92206f229888",
   "metadata": {},
   "source": [
    "### WithColumn: Add new calculated columns."
   ]
  },
  {
   "cell_type": "code",
   "execution_count": 16,
   "id": "fda0d1b8-ccb9-4498-a522-a03e8af31a16",
   "metadata": {},
   "outputs": [
    {
     "name": "stdout",
     "output_type": "stream",
     "text": [
      "DataFrame with New Column: \n",
      "+---+----------------+-----------+--------+-------+-------+\n",
      "| id|            name|   category|quantity|  price|revenue|\n",
      "+---+----------------+-----------+--------+-------+-------+\n",
      "|  1|          iPhone|Electronics|      10| 899.99| 8999.9|\n",
      "|  2|         MacBook|Electronics|       5|1299.99|6499.95|\n",
      "|  3|            iPad|Electronics|      15| 499.99|7499.85|\n",
      "|  4|      Samsung TV|Electronics|       8| 799.99|6399.92|\n",
      "|  5|           LG TV|Electronics|      10| 699.99| 6999.9|\n",
      "|  6|      Nike Shoes|   Clothing|      30|  99.99| 2999.7|\n",
      "|  7|    Adidas Shoes|   Clothing|      25|  89.99|2249.75|\n",
      "|  8| Sony Headphones|Electronics|      12| 149.99|1799.88|\n",
      "|  9|Beats Headphones|Electronics|      20| 199.99| 3999.8|\n",
      "+---+----------------+-----------+--------+-------+-------+\n",
      "\n"
     ]
    }
   ],
   "source": [
    "# Add a New Calculated Column\n",
    "df_with_new_column = df.withColumn(\"revenue\", df.quantity * df.price)\n",
    "print(\"DataFrame with New Column: \")\n",
    "df_with_new_column.show()"
   ]
  },
  {
   "cell_type": "markdown",
   "id": "2f3dae7e-1085-429d-b679-da5508a73d5d",
   "metadata": {},
   "source": [
    "### Alias: Rename columns for better readability."
   ]
  },
  {
   "cell_type": "code",
   "execution_count": 17,
   "id": "4913b5cf-6e64-43dd-8ac4-9550235f4009",
   "metadata": {},
   "outputs": [
    {
     "name": "stdout",
     "output_type": "stream",
     "text": [
      "DataFrame with Aliased Column: \n",
      "+---+----------------+-----------+--------+-------------+\n",
      "| id|            name|   category|quantity|product_price|\n",
      "+---+----------------+-----------+--------+-------------+\n",
      "|  1|          iPhone|Electronics|      10|       899.99|\n",
      "|  2|         MacBook|Electronics|       5|      1299.99|\n",
      "|  3|            iPad|Electronics|      15|       499.99|\n",
      "|  4|      Samsung TV|Electronics|       8|       799.99|\n",
      "|  5|           LG TV|Electronics|      10|       699.99|\n",
      "|  6|      Nike Shoes|   Clothing|      30|        99.99|\n",
      "|  7|    Adidas Shoes|   Clothing|      25|        89.99|\n",
      "|  8| Sony Headphones|Electronics|      12|       149.99|\n",
      "|  9|Beats Headphones|Electronics|      20|       199.99|\n",
      "+---+----------------+-----------+--------+-------------+\n",
      "\n"
     ]
    }
   ],
   "source": [
    "# Rename column using alias\n",
    "df_with_alias = df.withColumnRenamed(\"price\", \"product_price\")\n",
    "print(\"DataFrame with Aliased Column: \")\n",
    "df_with_alias.show()"
   ]
  },
  {
   "cell_type": "code",
   "execution_count": 18,
   "id": "6b8ca825-e706-4358-8546-e05ae9e81bd1",
   "metadata": {},
   "outputs": [],
   "source": [
    "#Stop the spark session\n",
    "spark.stop()"
   ]
  },
  {
   "cell_type": "code",
   "execution_count": null,
   "id": "ccc5f4f1-1159-4314-baeb-0c48cf83140d",
   "metadata": {},
   "outputs": [],
   "source": []
  },
  {
   "cell_type": "code",
   "execution_count": null,
   "id": "eb0bd80e-7f2a-4311-8f31-710e55aada9e",
   "metadata": {},
   "outputs": [],
   "source": []
  }
 ],
 "metadata": {
  "kernelspec": {
   "display_name": "Python 3.11 (local)",
   "language": "python",
   "name": "python311"
  },
  "language_info": {
   "codemirror_mode": {
    "name": "ipython",
    "version": 3
   },
   "file_extension": ".py",
   "mimetype": "text/x-python",
   "name": "python",
   "nbconvert_exporter": "python",
   "pygments_lexer": "ipython3",
   "version": "3.11.0"
  }
 },
 "nbformat": 4,
 "nbformat_minor": 5
}
